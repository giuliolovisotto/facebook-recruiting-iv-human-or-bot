{
 "cells": [
  {
   "cell_type": "code",
   "execution_count": 94,
   "metadata": {
    "collapsed": true
   },
   "outputs": [],
   "source": [
    "import numpy as np\n",
    "import pandas as pd\n",
    "import utils as ut"
   ]
  },
  {
   "cell_type": "code",
   "execution_count": 95,
   "metadata": {
    "collapsed": false
   },
   "outputs": [],
   "source": [
    "reload(ut)\n",
    "X, y = ut.load_X(), ut.load_y()"
   ]
  },
  {
   "cell_type": "code",
   "execution_count": 96,
   "metadata": {
    "collapsed": false
   },
   "outputs": [
    {
     "name": "stdout",
     "output_type": "stream",
     "text": [
      "103 1910\n",
      "   dev    ip  country   url       avgb           varb          avgt  \\\n",
      "0   51    13        7     1  10.055556      37.163580  7.319620e+10   \n",
      "1  408  3455       92  1916  24.312268  111142.586504  1.182183e+10   \n",
      "2   24   358       14     5  16.125984    2057.369955  3.776374e+10   \n",
      "3    1     8        2     7  10.807692     213.847633  1.237613e+10   \n",
      "4    4   836       29     4  10.308411     444.400210  1.236226e+10   \n",
      "\n",
      "           vart  zerot  \n",
      "0  4.147094e+23      0  \n",
      "1  3.826835e+23     58  \n",
      "2  1.225883e+24      4  \n",
      "3  3.800849e+22      4  \n",
      "4  2.941426e+20      8  \n",
      "   dev   ip  country  url      avgb       varb          avgt          vart  \\\n",
      "0   14   20        6    1  1.333333   0.333333  5.711121e+11  5.292893e+23   \n",
      "1    2    3        1    2  3.000000   0.000000  3.233579e+12  1.548191e+24   \n",
      "2    2    4        1    2  1.000000   0.000000  2.379000e+12  4.952301e+23   \n",
      "3    1    1        1    1  1.000000   0.000000  0.000000e+00  0.000000e+00   \n",
      "4   53  123        2   91  6.739130  81.497164  7.777888e+10  4.610807e+22   \n",
      "\n",
      "   zerot  \n",
      "0      0  \n",
      "1      0  \n",
      "2      0  \n",
      "3      0  \n",
      "4      0  \n"
     ]
    }
   ],
   "source": [
    "bots = X[y == 1, :]\n",
    "humans = X[y == 0, :]\n",
    "print bots.shape[0], humans.shape[0]\n",
    "bdf = pd.DataFrame(bots, columns=['dev', 'ip', 'country', 'url', 'avgb', 'varb', 'avgt', 'vart', 'zerot'])\n",
    "hdf = pd.DataFrame(humans, columns=['dev', 'ip', 'country', 'url', 'avgb', 'varb', 'avgt', 'vart', 'zerot'])\n",
    "print bdf.head(5)\n",
    "print hdf.head(5)"
   ]
  },
  {
   "cell_type": "code",
   "execution_count": 99,
   "metadata": {
    "collapsed": false
   },
   "outputs": [
    {
     "name": "stdout",
     "output_type": "stream",
     "text": [
      "(103,) (1910,)\n"
     ]
    },
    {
     "data": {
      "text/plain": [
       "<matplotlib.axes._subplots.AxesSubplot at 0x7f339fb6f150>"
      ]
     },
     "execution_count": 99,
     "metadata": {},
     "output_type": "execute_result"
    },
    {
     "data": {
      "image/png": "[encoded data removed]",
      "text/plain": [
       "<matplotlib.figure.Figure at 0x7f339fcad310>"
      ]
     },
     "metadata": {},
     "output_type": "display_data"
    },
    {
     "data": {
      "text/plain": [
       "<matplotlib.figure.Figure at 0x7f339fa91f10>"
      ]
     },
     "metadata": {},
     "output_type": "display_data"
    },
    {
     "data": {
      "image/png": "[encoded data removed]",
      "text/plain": [
       "<matplotlib.figure.Figure at 0x7f339fb6f4d0>"
      ]
     },
     "metadata": {},
     "output_type": "display_data"
    }
   ],
   "source": [
    "import matplotlib.pyplot as plt\n",
    "%matplotlib inline\n",
    "plt.style.use('ggplot')\n",
    "from sklearn.preprocessing import scale\n",
    "s = 'avgt'\n",
    "\n",
    "scaled = scale(pd.concat([bdf[s]/float(100000), hdf[s]/float(100000)]))\n",
    "bdf_s, hdf_s = scaled[0:len(bdf)], scaled[len(bdf):]\n",
    "print bdf_s.shape, hdf_s.shape\n",
    "\n",
    "pd.DataFrame(bdf_s).plot(kind='hist', bins=np.linspace(-0.5, 0.5, 20))\n",
    "plt.figure()\n",
    "pd.DataFrame(hdf_s).plot(kind='hist',bins=np.linspace(-0.5, 0.5, 20))"
   ]
  },
  {
   "cell_type": "code",
   "execution_count": null,
   "metadata": {
    "collapsed": true
   },
   "outputs": [],
   "source": []
  }
 ],
 "metadata": {
  "kernelspec": {
   "display_name": "Python 2",
   "language": "python",
   "name": "python2"
  },
  "language_info": {
   "codemirror_mode": {
    "name": "ipython",
    "version": 2
   },
   "file_extension": ".py",
   "mimetype": "text/x-python",
   "name": "python",
   "nbconvert_exporter": "python",
   "pygments_lexer": "ipython2",
   "version": "2.7.9"
  }
 },
 "nbformat": 4,
 "nbformat_minor": 0
}
