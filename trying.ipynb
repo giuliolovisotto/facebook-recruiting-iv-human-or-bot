{
 "cells": [
  {
   "cell_type": "code",
   "execution_count": 1,
   "metadata": {
    "collapsed": true
   },
   "outputs": [],
   "source": [
    "import pandas as pd\n",
    "\n",
    "df = pd.read_csv('data/bids.csv')"
   ]
  },
  {
   "cell_type": "code",
   "execution_count": 2,
   "metadata": {
    "collapsed": false
   },
   "outputs": [
    {
     "name": "stdout",
     "output_type": "stream",
     "text": [
      "   bid_id                              bidder_id auction merchandise  device  \\\n",
      "0       0  8dac2b259fd1c6d1120e519fb1ac14fbqvax8   ewmzr     jewelry  phone0   \n",
      "1       1  668d393e858e8126275433046bbd35c6tywop   aeqok   furniture  phone1   \n",
      "2       2  aa5f360084278b35d746fa6af3a7a1a5ra3xe   wa00e  home goods  phone2   \n",
      "3       3  3939ac3ef7d472a59a9c5f893dd3e39fh9ofi   jefix     jewelry  phone4   \n",
      "4       4  8393c48eaf4b8fa96886edc7cf27b372dsibi   jefix     jewelry  phone5   \n",
      "\n",
      "               time country              ip              url  \n",
      "0  9759243157894736      us   69.166.231.58  vasstdc27m7nks3  \n",
      "1  9759243157894736      in   50.201.125.84  jmqlhflrzwuay9c  \n",
      "2  9759243157894736      py  112.54.208.157  vasstdc27m7nks3  \n",
      "3  9759243157894736      in   18.99.175.133  vasstdc27m7nks3  \n",
      "4  9759243157894736      in    145.138.5.37  vasstdc27m7nks3  \n"
     ]
    }
   ],
   "source": [
    "print df.head(5);"
   ]
  },
  {
   "cell_type": "code",
   "execution_count": 3,
   "metadata": {
    "collapsed": false
   },
   "outputs": [
    {
     "name": "stdout",
     "output_type": "stream",
     "text": [
      "7351\n",
      "6614\n",
      "2303991\n"
     ]
    }
   ],
   "source": [
    "print len(df['device'].unique())\n",
    "print len(df['bidder_id'].unique())\n",
    "print len(df['ip'].unique())"
   ]
  },
  {
   "cell_type": "code",
   "execution_count": 4,
   "metadata": {
    "collapsed": false
   },
   "outputs": [
    {
     "name": "stdout",
     "output_type": "stream",
     "text": [
      "1786351\n",
      "15051\n"
     ]
    }
   ],
   "source": [
    "print len((df['url'].unique()))\n",
    "print len(df['auction'].unique())"
   ]
  },
  {
   "cell_type": "code",
   "execution_count": 9,
   "metadata": {
    "collapsed": false
   },
   "outputs": [
    {
     "data": {
      "text/plain": [
       "array([[2, 'aa5f360084278b35d746fa6af3a7a1a5ra3xe', 'wa00e', ..., 'py',\n",
       "        '112.54.208.157', 'vasstdc27m7nks3'],\n",
       "       [27, 'aa5f360084278b35d746fa6af3a7a1a5ra3xe', '88xe3', ..., 'ch',\n",
       "        '144.203.164.7', '526pa711hpwgwta'],\n",
       "       [84, 'aa5f360084278b35d746fa6af3a7a1a5ra3xe', 'h1ko2', ..., 'tr',\n",
       "        '170.92.227.44', 'vasstdc27m7nks3'],\n",
       "       ..., \n",
       "       [2351100, 'aa5f360084278b35d746fa6af3a7a1a5ra3xe', 'r1wfm', ...,\n",
       "        'vn', '34.206.123.215', 'vasstdc27m7nks3'],\n",
       "       [2351114, 'aa5f360084278b35d746fa6af3a7a1a5ra3xe', 'kc1y2', ...,\n",
       "        'my', '188.173.123.55', 'vasstdc27m7nks3'],\n",
       "       [2351126, 'aa5f360084278b35d746fa6af3a7a1a5ra3xe', 'vqe7e', ...,\n",
       "        'pa', '109.234.79.220', 'vasstdc27m7nks3']], dtype=object)"
      ]
     },
     "execution_count": 9,
     "metadata": {},
     "output_type": "execute_result"
    }
   ],
   "source": [
    "m_f_bids = df.as_matrix()"
   ]
  },
  {
   "cell_type": "code",
   "execution_count": 10,
   "metadata": {
    "collapsed": false
   },
   "outputs": [
    {
     "name": "stdout",
     "output_type": "stream",
     "text": [
      "10 loops, best of 3: 174 ms per loop\n"
     ]
    }
   ],
   "source": [
    "%timeit m_f_bids[m_f_bids[:, 1] == \"aa5f360084278b35d746fa6af3a7a1a5ra3xe\"]"
   ]
  },
  {
   "cell_type": "code",
   "execution_count": 56,
   "metadata": {
    "collapsed": true
   },
   "outputs": [],
   "source": [
    "import numpy as np\n",
    "filtered = m_f_bids[m_f_bids[:, 1] == \"624f258b49e77713fc34034560f93fb3hu3jo\"]\n",
    "# %timeit np.unique(filtered[:, 4]).shape[0]"
   ]
  },
  {
   "cell_type": "code",
   "execution_count": 57,
   "metadata": {
    "collapsed": true
   },
   "outputs": [],
   "source": [
    "times = filtered[:, 5].astype(np.int64)\n",
    "t1, t2 = times[:-1], times[1:]"
   ]
  },
  {
   "cell_type": "code",
   "execution_count": 61,
   "metadata": {
    "collapsed": false
   },
   "outputs": [
    {
     "name": "stdout",
     "output_type": "stream",
     "text": [
      "[9764047105263157 9766036421052631 9770514263157894]\n",
      "[1989315789474 4477842105263]\n",
      "1989315789474\n"
     ]
    }
   ],
   "source": [
    "print times\n",
    "t_diff = times[1:] - times[:-1]\n",
    "print t_diff"
   ]
  },
  {
   "cell_type": "code",
   "execution_count": 55,
   "metadata": {
    "collapsed": false
   },
   "outputs": [
    {
     "name": "stdout",
     "output_type": "stream",
     "text": [
      "auction\n",
      "0cuy6       2\n",
      "0zqjp       3\n",
      "122l6       1\n",
      "126v6       1\n",
      "12a00      66\n",
      "16nyi       1\n",
      "1aqjf      19\n",
      "1ez89       3\n",
      "1f9t0      19\n",
      "1ftck       7\n",
      "1gmv9       1\n",
      "1phic       3\n",
      "1r07r       1\n",
      "1z6y5       2\n",
      "22mr6       2\n",
      "...\n",
      "y50y6       2\n",
      "yb37a      14\n",
      "yduus       1\n",
      "yiapr       2\n",
      "yje37       1\n",
      "yo1by       4\n",
      "ypj1s       2\n",
      "ywmkf       2\n",
      "yy6dx       1\n",
      "zc8fu       1\n",
      "zd01o       8\n",
      "zfjly       3\n",
      "zm2v1       1\n",
      "zpwjd       1\n",
      "zwbn5       5\n",
      "Name: bid_id, Length: 269, dtype: int64\n"
     ]
    }
   ],
   "source": [
    "df = pd.DataFrame(filtered[:, [1, 2]], index=filtered[:, 0], columns=['bid_id', 'auction'])\n",
    "# df.head()\n",
    "gp = df.groupby(['auction']).count()['bid_id']\n",
    "print gp"
   ]
  },
  {
   "cell_type": "code",
   "execution_count": 36,
   "metadata": {
    "collapsed": false
   },
   "outputs": [
    {
     "name": "stdout",
     "output_type": "stream",
     "text": [
      "53\n",
      "53\n"
     ]
    },
    {
     "name": "stderr",
     "output_type": "stream",
     "text": [
      "/usr/lib/python2.7/site-packages/numpy/lib/arraysetops.py:198: FutureWarning: numpy not_equal will not check object identity in the future. The comparison did not return the same result as suggested by the identity (`is`)) and will change.\n",
      "  flag = np.concatenate(([True], aux[1:] != aux[:-1]))\n"
     ]
    }
   ],
   "source": [
    "import numpy as np \n",
    "import pandas as pd\n",
    "b_id = '11'\n",
    "filtered = np.loadtxt(\"data/f_bidder_id/%s.csv\" % b_id, delimiter=',', dtype='str')\n",
    "df = pd.read_csv('data/bids.csv')\n",
    "df = df.as_matrix()\n",
    "df = df[df[:, 1]=='fa64831ab5ade55daee13f852c16b0a84ujt0']\n",
    "print np.unique(df[:, 6]).shape[0]\n",
    "print np.unique(filtered[:, 4]).shape[0]"
   ]
  },
  {
   "cell_type": "code",
   "execution_count": 29,
   "metadata": {
    "collapsed": false
   },
   "outputs": [
    {
     "name": "stdout",
     "output_type": "stream",
     "text": [
      "auction\n",
      "0cuy6    1\n",
      "0d5z1    1\n",
      "1f9t0    2\n",
      "1pi3q    4\n",
      "272z1    1\n",
      "28dgm    3\n",
      "29plp    1\n",
      "2hu2f    1\n",
      "2qrds    3\n",
      "2rzxk    3\n",
      "2vijf    1\n",
      "33p2a    1\n",
      "3zewh    2\n",
      "436hc    1\n",
      "47xug    2\n",
      "4goa0    1\n",
      "4s9ut    1\n",
      "52b8i    1\n",
      "557vg    2\n",
      "5aviv    1\n",
      "5tdxp    1\n",
      "5umtc    1\n",
      "62d9x    1\n",
      "7ryke    1\n",
      "7us95    1\n",
      "7vwnx    1\n",
      "860ny    1\n",
      "8ufmo    1\n",
      "8wi2r    3\n",
      "8ymn3    1\n",
      "        ..\n",
      "rcsi0    3\n",
      "rp76w    1\n",
      "s8ys6    2\n",
      "sktys    1\n",
      "snp74    8\n",
      "svwdv    2\n",
      "tq1bk    2\n",
      "tqpu1    2\n",
      "uotsf    2\n",
      "uu6z3    1\n",
      "uvnl7    1\n",
      "uzj32    1\n",
      "v6jlp    2\n",
      "v7931    3\n",
      "v8r5s    3\n",
      "vjfp5    1\n",
      "vsmcx    1\n",
      "vw7uy    1\n",
      "wo635    1\n",
      "x8eax    6\n",
      "x8et8    1\n",
      "xdel4    1\n",
      "xofhf    1\n",
      "xsj5g    4\n",
      "y8x4o    2\n",
      "yb37a    1\n",
      "yis3j    1\n",
      "yo1by    2\n",
      "zd01o    1\n",
      "zh1dw    2\n",
      "Name: something, dtype: int64\n"
     ]
    }
   ],
   "source": [
    "df = pd.DataFrame(filtered[:, :2], columns=['auction', 'something'])\n",
    "bids_count = df.groupby(['auction']).count()['something']\n",
    "print bids_count\n"
   ]
  },
  {
   "cell_type": "code",
   "execution_count": 23,
   "metadata": {
    "collapsed": false
   },
   "outputs": [
    {
     "data": {
      "text/plain": [
       "(array([20, 21]),)"
      ]
     },
     "execution_count": 23,
     "metadata": {},
     "output_type": "execute_result"
    }
   ],
   "source": [
    "np.where(filtered[:, 0] == 'qyr4w')"
   ]
  },
  {
   "cell_type": "code",
   "execution_count": null,
   "metadata": {
    "collapsed": true
   },
   "outputs": [],
   "source": []
  }
 ],
 "metadata": {
  "kernelspec": {
   "display_name": "Python 2",
   "language": "python",
   "name": "python2"
  },
  "language_info": {
   "codemirror_mode": {
    "name": "ipython",
    "version": 2
   },
   "file_extension": ".py",
   "mimetype": "text/x-python",
   "name": "python",
   "nbconvert_exporter": "python",
   "pygments_lexer": "ipython2",
   "version": "2.7.9"
  }
 },
 "nbformat": 4,
 "nbformat_minor": 0
}
