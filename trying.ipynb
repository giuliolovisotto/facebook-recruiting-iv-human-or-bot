{
 "cells": [
  {
   "cell_type": "code",
   "execution_count": 1,
   "metadata": {},
   "outputs": [],
   "source": [
    "import pandas as pd\n",
    "\n",
    "df = pd.read_csv('data/bids.csv')"
   ]
  },
  {
   "cell_type": "code",
   "execution_count": 9,
   "metadata": {},
   "outputs": [
    {
     "name": "stdout",
     "output_type": "stream",
     "text": [
      "   bid_id                              bidder_id auction merchandise  device  \\\n",
      "0       0  8dac2b259fd1c6d1120e519fb1ac14fbqvax8   ewmzr     jewelry  phone0   \n",
      "1       1  668d393e858e8126275433046bbd35c6tywop   aeqok   furniture  phone1   \n",
      "2       2  aa5f360084278b35d746fa6af3a7a1a5ra3xe   wa00e  home goods  phone2   \n",
      "3       3  3939ac3ef7d472a59a9c5f893dd3e39fh9ofi   jefix     jewelry  phone4   \n",
      "4       4  8393c48eaf4b8fa96886edc7cf27b372dsibi   jefix     jewelry  phone5   \n",
      "\n",
      "               time country              ip              url  \n",
      "0  9759243157894736      us   69.166.231.58  vasstdc27m7nks3  \n",
      "1  9759243157894736      in   50.201.125.84  jmqlhflrzwuay9c  \n",
      "2  9759243157894736      py  112.54.208.157  vasstdc27m7nks3  \n",
      "3  9759243157894736      in   18.99.175.133  vasstdc27m7nks3  \n",
      "4  9759243157894736      in    145.138.5.37  vasstdc27m7nks3  \n"
     ]
    }
   ],
   "source": [
    "print df.head(5);"
   ]
  },
  {
   "cell_type": "code",
   "execution_count": 11,
   "metadata": {},
   "outputs": [
    {
     "name": "stdout",
     "output_type": "stream",
     "text": [
      "7351\n",
      "6614\n",
      "2303991\n"
     ]
    }
   ],
   "source": [
    "print len(df['device'].unique())\n",
    "print len(df['bidder_id'].unique())\n",
    "print len(df['ip'].unique())"
   ]
  },
  {
   "cell_type": "code",
   "execution_count": 13,
   "metadata": {},
   "outputs": [
    {
     "name": "stdout",
     "output_type": "stream",
     "text": [
      "1786351\n",
      "15051\n"
     ]
    }
   ],
   "source": [
    "print len((df['url'].unique()))\n",
    "print len(df['auction'].unique())"
   ]
  },
  {
   "cell_type": "code",
   "execution_count": 26,
   "metadata": {},
   "outputs": [
    {
     "name": "stdout",
     "output_type": "stream",
     "text": [
      "1 loops, best of 3: 484 ms per loop\n"
     ]
    }
   ],
   "source": [
    "%timeit df.loc[df['bidder_id']==\"8dac2b259fd1c6d1120e519fb1ac14fbqvax8\"]['device']"
   ]
  },
  {
   "cell_type": "code",
   "execution_count": 25,
   "metadata": {},
   "outputs": [
    {
     "name": "stdout",
     "output_type": "stream",
     "text": [
      "1 loops, best of 3: 310 ms per loop\n"
     ]
    }
   ],
   "source": [
    "%timeit df.query('(bidder_id ==  \"8dac2b259fd1c6d1120e519fb1ac14fbqvax8\")')"
   ]
  },
  {
   "cell_type": "code",
   "execution_count": 37,
   "metadata": {},
   "outputs": [
    {
     "data": {
      "text/plain": [
       "<pysqlite2.dbapi2.Cursor at 0x1104cce30>"
      ]
     },
     "execution_count": 37,
     "output_type": "execute_result",
     "metadata": {}
    }
   ],
   "source": [
    "from sqlalchemy import create_engine\n",
    "engine = create_engine('sqlite:///foo.db')\n",
    "con = engine.raw_connection()"
   ]
  },
  {
   "cell_type": "code",
   "execution_count": 38,
   "metadata": {},
   "outputs": [],
   "source": [
    "df.to_sql(\"bidders\", con, flavor='sqlite',)"
   ]
  },
  {
   "cell_type": "code",
   "execution_count": 43,
   "metadata": {},
   "outputs": [],
   "source": [
    "engine = create_engine('sqlite:////Users/giulio/repos/facebook-recruiting-iv-human-or-bot/foo.db')\n",
    "conn = engine.connect()"
   ]
  },
  {
   "cell_type": "code",
   "execution_count": 57,
   "metadata": {},
   "outputs": [],
   "source": [
    "resoverall = conn.execute(\"SELECT * FROM bidders where bidder_id =='8dac2b259fd1c6d1120e519fb1ac14fbqvax8'\")\n",
    "dfn = pd.DataFrame(resoverall.fetchall())\n",
    "dfn.columns = resoverall.keys()"
   ]
  },
  {
   "cell_type": "code",
   "execution_count": 58,
   "metadata": {},
   "outputs": [
    {
     "name": "stdout",
     "output_type": "stream",
     "text": [
      "   bid_id                              bidder_id auction merchandise  device  \\\n",
      "0       0  8dac2b259fd1c6d1120e519fb1ac14fbqvax8   ewmzr     jewelry  phone0   \n",
      "1       1  668d393e858e8126275433046bbd35c6tywop   aeqok   furniture  phone1   \n",
      "2       2  aa5f360084278b35d746fa6af3a7a1a5ra3xe   wa00e  home goods  phone2   \n",
      "3       3  3939ac3ef7d472a59a9c5f893dd3e39fh9ofi   jefix     jewelry  phone4   \n",
      "4       4  8393c48eaf4b8fa96886edc7cf27b372dsibi   jefix     jewelry  phone5   \n",
      "\n",
      "               time country              ip              url  \n",
      "0  9759243157894736      us   69.166.231.58  vasstdc27m7nks3  \n",
      "1  9759243157894736      in   50.201.125.84  jmqlhflrzwuay9c  \n",
      "2  9759243157894736      py  112.54.208.157  vasstdc27m7nks3  \n",
      "3  9759243157894736      in   18.99.175.133  vasstdc27m7nks3  \n",
      "4  9759243157894736      in    145.138.5.37  vasstdc27m7nks3  \n"
     ]
    }
   ],
   "source": [
    "print df.head()"
   ]
  },
  {
   "cell_type": "code",
   "execution_count": null,
   "metadata": {},
   "outputs": [],
   "source": [
    ""
   ]
  }
 ],
 "metadata": {
  "kernelspec": {
   "display_name": "Python 2",
   "language": "python",
   "name": "python2"
  },
  "language_info": {
   "codemirror_mode": {
    "name": "ipython",
    "version": 2.0
   },
   "file_extension": ".py",
   "mimetype": "text/x-python",
   "name": "python",
   "nbconvert_exporter": "python",
   "pygments_lexer": "ipython2",
   "version": "2.7.9"
  }
 },
 "nbformat": 4,
 "nbformat_minor": 0
}