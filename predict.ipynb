{
 "cells": [
  {
   "cell_type": "code",
   "execution_count": 213,
   "metadata": {
    "collapsed": false
   },
   "outputs": [
    {
     "name": "stdout",
     "output_type": "stream",
     "text": [
      "0.910028745466\n",
      "0.913994717458\n"
     ]
    },
    {
     "name": "stderr",
     "output_type": "stream",
     "text": [
      "/Users/giulio/anaconda/lib/python2.7/site-packages/sklearn/ensemble/gradient_boosting.py:375: RuntimeWarning: overflow encountered in exp\n",
      "  return y - 1.0 / (1.0 + np.exp(-pred.ravel()))\n",
      "/Users/giulio/anaconda/lib/python2.7/site-packages/sklearn/ensemble/gradient_boosting.py:375: RuntimeWarning: overflow encountered in exp\n",
      "  return y - 1.0 / (1.0 + np.exp(-pred.ravel()))\n",
      "/Users/giulio/anaconda/lib/python2.7/site-packages/sklearn/ensemble/gradient_boosting.py:375: RuntimeWarning: overflow encountered in exp\n",
      "  return y - 1.0 / (1.0 + np.exp(-pred.ravel()))\n",
      "/Users/giulio/anaconda/lib/python2.7/site-packages/sklearn/ensemble/gradient_boosting.py:375: RuntimeWarning: overflow encountered in exp\n",
      "  return y - 1.0 / (1.0 + np.exp(-pred.ravel()))\n"
     ]
    }
   ],
   "source": [
    "from sklearn.ensemble import GradientBoostingClassifier, ExtraTreesClassifier, RandomForestClassifier\n",
    "import utils as ut\n",
    "from sklearn.svm import SVC\n",
    "from sklearn.neighbors import KNeighborsClassifier\n",
    "from sklearn.cross_validation import cross_val_score, KFold, StratifiedKFold\n",
    "from sklearn.metrics import roc_auc_score\n",
    "from sklearn.lda import LDA\n",
    "from sklearn.decomposition import PCA\n",
    "from sklearn.preprocessing import scale, MinMaxScaler\n",
    "from sklearn.grid_search import GridSearchCV\n",
    "import numpy as np\n",
    "reload(ut)\n",
    "\n",
    "X, y = ut.load_X(), ut.load_y()\n",
    "X = X[:, :]\n",
    "\n",
    "X = scale(X)\n",
    "\n",
    "rfc = RandomForestClassifier()\n",
    "# rfc = SVC(probability=True)\n",
    "gbc = GradientBoostingClassifier()\n",
    "\n",
    "rfc_p = {\n",
    "    'n_estimators': [5, 10, 20, 30, 40, 50],\n",
    "    'criterion': ['gini', 'entropy'],\n",
    "}\n",
    "# rfc_p = {\n",
    "#     'C': np.logspace(-2, 0.3, 10)\n",
    "# }\n",
    "gbc_p = {\n",
    "    'loss': ['deviance'],\n",
    "    'learning_rate': np.logspace(-2, 0, 10),\n",
    "    'n_estimators': [10, 50, 100, 250]\n",
    "}\n",
    "kfold = StratifiedKFold(y, n_folds=5, shuffle=True, random_state=0)\n",
    "\n",
    "search_r = GridSearchCV(rfc, rfc_p, n_jobs=-1, cv=kfold, scoring='roc_auc')\n",
    "search_g = GridSearchCV(gbc, gbc_p, n_jobs=-1, cv=kfold, scoring='roc_auc')\n",
    "\n",
    "search_r.fit(X, y)\n",
    "search_g.fit(X, y)\n",
    "\n",
    "print search_r.best_score_\n",
    "print search_g.best_score_"
   ]
  },
  {
   "cell_type": "code",
   "execution_count": 218,
   "metadata": {
    "collapsed": false
   },
   "outputs": [
    {
     "name": "stdout",
     "output_type": "stream",
     "text": [
      "RandomForestClassifier(bootstrap=True, compute_importances=None,\n",
      "            criterion='gini', max_depth=None, max_features='auto',\n",
      "            max_leaf_nodes=None, min_density=None, min_samples_leaf=1,\n",
      "            min_samples_split=2, n_estimators=10, n_jobs=1,\n",
      "            oob_score=False, random_state=None, verbose=0)\n",
      "GradientBoostingClassifier(init=None, learning_rate=0.1, loss='deviance',\n",
      "              max_depth=3, max_features=None, max_leaf_nodes=None,\n",
      "              min_samples_leaf=1, min_samples_split=2, n_estimators=100,\n",
      "              random_state=None, subsample=1.0, verbose=0,\n",
      "              warm_start=False)\n",
      "1\n",
      "2\n",
      "3\n",
      "4\n",
      "5\n",
      "[ 0.91423111  0.90297831  0.90677961]\n"
     ]
    }
   ],
   "source": [
    "# rfc = RandomForestClassifier(**search_r.best_params_)\n",
    "clf1 = RandomForestClassifier(**search_r.best_params_)\n",
    "# clf1 = SVC(probability=True, **search_r.best_params_)\n",
    "clf2 = GradientBoostingClassifier(**search_g.best_params_)\n",
    "print rfc\n",
    "print gbc\n",
    "\n",
    "tots = np.zeros(shape=(5, 3))\n",
    "\n",
    "for j in range(5):\n",
    "    kfold = StratifiedKFold(y, n_folds=5, shuffle=True, random_state=0)\n",
    "\n",
    "    gbcs = np.zeros(len(kfold))\n",
    "    rfcs = np.zeros(len(kfold))\n",
    "    scores = np.zeros(len(kfold))\n",
    "\n",
    "    for i, (train, test) in enumerate(kfold):\n",
    "        clf1.fit(X[train], y[train])\n",
    "        rfc_y = clf1.predict_proba(X[test])[:, 1]\n",
    "        clf2.fit(X[train], y[train])\n",
    "        gbc_y = clf2.predict_proba(X[test])[:, 1]\n",
    "        # print roc_auc_score(y[test], rfc_y)\n",
    "        # print roc_auc_score(y[test], gbc_y)\n",
    "\n",
    "        alpha = 0.5\n",
    "\n",
    "        tot = alpha*rfc_y+(1-alpha)*gbc_y\n",
    "        \n",
    "        # tot[np.loadtxt(\"data/emptyfiles.txt\", dtype='int')] = 0.0\n",
    "        # print tot\n",
    "        # print \"power combined:\\n%s\\n\" % roc_auc_score(y[test], tot)\n",
    "        gbcs[i] = roc_auc_score(y[test], gbc_y)\n",
    "        rfcs[i] = roc_auc_score(y[test], rfc_y)\n",
    "        scores[i] = roc_auc_score(y[test], tot)\n",
    "    \n",
    "    tots[j] = np.array([gbcs.mean(), rfcs.mean(), scores.mean()])\n",
    "    print j+1\n",
    "\n",
    "print tots.mean(axis=0)\n"
   ]
  },
  {
   "cell_type": "code",
   "execution_count": 142,
   "metadata": {
    "collapsed": false
   },
   "outputs": [
    {
     "data": {
      "text/plain": [
       "'85b0b24d1dbd17c9'"
      ]
     },
     "execution_count": 142,
     "metadata": {},
     "output_type": "execute_result"
    }
   ],
   "source": [
    "import random\n",
    "import os\n",
    "os.urandom(8).encode('hex')"
   ]
  },
  {
   "cell_type": "code",
   "execution_count": 146,
   "metadata": {
    "collapsed": false
   },
   "outputs": [
    {
     "name": "stdout",
     "output_type": "stream",
     "text": [
      "[ 0.00483424  0.00483424  0.0079747  ...,  0.10596175  0.00483424\n",
      "  0.01779815]\n"
     ]
    }
   ],
   "source": [
    "a = np.loadtxt(\"data/subm/5c44ac32d5941194.csv\", dtype='str', delimiter=\",\", skiprows=1, usecols=(1, )).astype(float)\n",
    "print a"
   ]
  },
  {
   "cell_type": "code",
   "execution_count": 153,
   "metadata": {
    "collapsed": false
   },
   "outputs": [
    {
     "name": "stdout",
     "output_type": "stream",
     "text": [
      "(4700,)\n"
     ]
    },
    {
     "data": {
      "text/plain": [
       "<matplotlib.axes._subplots.AxesSubplot at 0x7ff384707450>"
      ]
     },
     "execution_count": 153,
     "metadata": {},
     "output_type": "execute_result"
    },
    {
     "data": {
      "image/png": "[encoded data removed]",
      "text/plain": [
       "<matplotlib.figure.Figure at 0x7ff384710e90>"
      ]
     },
     "metadata": {},
     "output_type": "display_data"
    }
   ],
   "source": [
    "import pandas as pd\n",
    "import matplotlib.pyplot as plt\n",
    "%matplotlib inline\n",
    "print a.shape\n",
    "df = pd.DataFrame(a)\n",
    "df.plot(kind='hist', bins=np.linspace(0.3, 1, 10))\n"
   ]
  },
  {
   "cell_type": "code",
   "execution_count": null,
   "metadata": {
    "collapsed": true
   },
   "outputs": [],
   "source": []
  }
 ],
 "metadata": {
  "kernelspec": {
   "display_name": "Python 2",
   "language": "python",
   "name": "python2"
  },
  "language_info": {
   "codemirror_mode": {
    "name": "ipython",
    "version": 2
   },
   "file_extension": ".py",
   "mimetype": "text/x-python",
   "name": "python",
   "nbconvert_exporter": "python",
   "pygments_lexer": "ipython2",
   "version": "2.7.9"
  }
 },
 "nbformat": 4,
 "nbformat_minor": 0
}
